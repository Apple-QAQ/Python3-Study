{
 "cells": [
  {
   "cell_type": "markdown",
   "metadata": {},
   "source": [
    "# 1.3 字典、字符串、元组、列表的初步认识"
   ]
  },
  {
   "cell_type": "markdown",
   "metadata": {},
   "source": [
    "### 1. 字符串(str)的创建"
   ]
  },
  {
   "cell_type": "code",
   "execution_count": 68,
   "metadata": {
    "scrolled": true
   },
   "outputs": [
    {
     "name": "stdout",
     "output_type": "stream",
     "text": [
      "str_1为: 猫猫可不可爱？\n",
      "str_2为: 是的！\n"
     ]
    }
   ],
   "source": [
    "str_1 = \"猫猫可不可爱？\"\n",
    "str_2 = '是的！'\n",
    "\n",
    "print(f\"str_1为: {str_1}\")\n",
    "print(f\"str_2为: {str_2}\")"
   ]
  },
  {
   "cell_type": "markdown",
   "metadata": {},
   "source": [
    "可见，两个变量 `str_1` 和 `str_2` 已经被创建\n",
    "\n",
    "在 `Python` 中，字符串用`\" \"`或者`' '`表示，没有任何的区别\n",
    "\n",
    "这个`f\"str_*为: {val}\"`就是格式化输出啦\\~\\\\(≧▽≦)/\\~，在`\" \"`(或`' '`)前加上`f`，之后就可以在`\" \"`里用`{ }`来使用变量的值啦\\~"
   ]
  },
  {
   "cell_type": "markdown",
   "metadata": {},
   "source": [
    "### 2. 字典(dict)"
   ]
  },
  {
   "cell_type": "code",
   "execution_count": 69,
   "metadata": {},
   "outputs": [
    {
     "name": "stdout",
     "output_type": "stream",
     "text": [
      "dict_1为: {'IsCatCute?': True, 'IsMomoCute': True, 'FuckU': False, 1: 'One', 'Two': 2}\n",
      "dict_1的键'IsCatCute?'的值为: True\n"
     ]
    }
   ],
   "source": [
    "dict_1 = {\"IsCatCute?\": True, \"IsMomoCute\": True,\n",
    "          \"FuckU\": False, 1: \"One\", \"Two\": 2}\n",
    "\n",
    "print(f\"dict_1为: {dict_1}\")\n",
    "print(f\"dict_1的键'IsCatCute?'的值为: {dict_1['IsCatCute?']}\")"
   ]
  },
  {
   "cell_type": "markdown",
   "metadata": {},
   "source": [
    "好哦~我们创建了一个字典\n",
    "\n",
    "那你肯定要问啦：这个冒号左边和冒号右边是干什么的？这个{ }又是干嘛的？\n",
    "\n",
    "让我来告诉你罢~\n",
    "\n",
    "`Python` 中，字典是用`{ }`括起来的！冒号左边是键 *(可以理解为索引)*，冒号右边是值\n",
    "\n",
    "`dict_1[*]` 是从 `dict_1` 这个字典中通过键获取值，然后返回的是值"
   ]
  },
  {
   "cell_type": "markdown",
   "metadata": {},
   "source": [
    "### 3. 列表(list)"
   ]
  },
  {
   "cell_type": "code",
   "execution_count": 70,
   "metadata": {},
   "outputs": [
    {
     "name": "stdout",
     "output_type": "stream",
     "text": [
      "list_1为: ['Cute', 'Dog', 'cat']\n",
      "list_1的第0位是: Cute\n",
      "list_1为: ['Cute', 'Dog', 'cat', 'abaaba']\n"
     ]
    }
   ],
   "source": [
    "list_1 = [\"Cute\", \"Dog\", \"cat\"]  # 索引从0开始计数\n",
    "\n",
    "print(f\"list_1为: {list_1}\")\n",
    "print(f\"list_1的第0位是: {list_1[0]}\")\n",
    "\n",
    "list_1 += [\"abaaba\"]  # 列表拼接\n",
    "\n",
    "print(f\"list_1为: {list_1}\")"
   ]
  },
  {
   "cell_type": "markdown",
   "metadata": {},
   "source": [
    "我们创建了一个列表，变量名为 `list_1`\n",
    "\n",
    "列表在 `Python` 中用`[ ]`来表示，列表的第一位是`0`\n",
    "\n",
    "`+=`是 `Python` 中的运算符，等同于 `list_1 = list_1 + [\"abaaba\"]`\n",
    "\n",
    "`list_1[*]`是从`list_1`这个列表中通过值在列表中的位置来获取值，`Python` 中列表内的值是从`0`开始计数的"
   ]
  },
  {
   "cell_type": "markdown",
   "metadata": {},
   "source": [
    "### 4. 元组(tuple)"
   ]
  },
  {
   "cell_type": "code",
   "execution_count": 71,
   "metadata": {},
   "outputs": [
    {
     "name": "stdout",
     "output_type": "stream",
     "text": [
      "tuple_1的类型是: <class 'tuple'>\n",
      "tuple_1_fake的类型是: <class 'int'>\n",
      "tuple_1为: (1,)\n",
      "tuple_2为: ('hello', 'world')\n",
      "tuple_2为: ('hello', 'world', '!', 'QAQ', 2333)\n",
      "tuple_2的第2位是: !\n"
     ]
    }
   ],
   "source": [
    "tuple_1 = (1,)  # 如果元组的长度为1，需要在后面加上逗号\n",
    "tuple_1_fake = (1)  # 这是一个整数，括号是多余的\n",
    "tuple_2 = (\"hello\", \"world\")  # 这是一个元组\n",
    "\n",
    "print(f\"tuple_1的类型是: {type(tuple_1)}\")\n",
    "print(f\"tuple_1_fake的类型是: {type(tuple_1_fake)}\")\n",
    "print(f\"tuple_1为: {tuple_1}\")\n",
    "print(f\"tuple_2为: {tuple_2}\")\n",
    "\n",
    "tuple_2 += (\"!\", \"QAQ\", 2333)  # 元组的拼接\n",
    "print(f\"tuple_2为: {tuple_2}\")\n",
    "\n",
    "print(f\"tuple_2的第2位是: {tuple_2[2]}\")"
   ]
  },
  {
   "cell_type": "markdown",
   "metadata": {},
   "source": [
    "我们创建了2个元组，变量名分别为 `tuple_1` 和 `tuple_2`\n",
    "\n",
    "元组有一个特别的地方，就是如果元组的长度为 `1`，需要在后面加上逗号，因为要和括号也可以表示整体进行区分\n",
    "\n",
    "什么是表示整体，举个例子\n",
    "\n",
    "```Python\n",
    "(1 + 1) * 2\n",
    "```\n",
    "\n",
    "返回的结果为 `4`，如果不加 `( )` 则会首先运算 `1 * 2`，返回结果则变成了 `3`\n",
    "\n",
    "`tuple_2[*]` 是从 `list_2` 这个列表中通过键在列表中的位置来获取值，`Python` 中元组内的键也是从 `0` 开始计数的"
   ]
  },
  {
   "cell_type": "markdown",
   "metadata": {},
   "source": [
    "### 5. 元组(tuple)，列表(list)和字典(dict)的区别"
   ]
  },
  {
   "cell_type": "code",
   "execution_count": 72,
   "metadata": {},
   "outputs": [
    {
     "name": "stdout",
     "output_type": "stream",
     "text": [
      "dict_1为: {'IsCatCute?': True, 'IsMomoCute': True, 'FuckU': False, 1: 'One', 'Two': 2}\n",
      "list_1为: ['Cute', 'Dog', 'cat', 'abaaba']\n",
      "tuple_1为: (1,)\n",
      "dict_1为: {'IsCatCute?': True, 'IsMomoCute': True, 'FuckU': False, 1: 'One'}\n",
      "list_1为: ['Cute', 'Dog', 'cat']\n"
     ]
    },
    {
     "ename": "TypeError",
     "evalue": "'tuple' object doesn't support item deletion",
     "output_type": "error",
     "traceback": [
      "\u001b[0;31m---------------------------------------------------------------------------\u001b[0m",
      "\u001b[0;31mTypeError\u001b[0m                                 Traceback (most recent call last)",
      "\u001b[0;32m<ipython-input-72-26514198ff2b>\u001b[0m in \u001b[0;36m<module>\u001b[0;34m\u001b[0m\n\u001b[1;32m      9\u001b[0m \u001b[0mprint\u001b[0m\u001b[0;34m(\u001b[0m\u001b[0;34mf\"list_1为: {list_1}\"\u001b[0m\u001b[0;34m)\u001b[0m\u001b[0;34m\u001b[0m\u001b[0;34m\u001b[0m\u001b[0m\n\u001b[1;32m     10\u001b[0m \u001b[0;34m\u001b[0m\u001b[0m\n\u001b[0;32m---> 11\u001b[0;31m \u001b[0;32mdel\u001b[0m \u001b[0mtuple_1\u001b[0m\u001b[0;34m[\u001b[0m\u001b[0;34m-\u001b[0m\u001b[0;36m1\u001b[0m\u001b[0;34m]\u001b[0m  \u001b[0;31m# 会报错，因为tuple只增不减\u001b[0m\u001b[0;34m\u001b[0m\u001b[0;34m\u001b[0m\u001b[0m\n\u001b[0m\u001b[1;32m     12\u001b[0m \u001b[0mprint\u001b[0m\u001b[0;34m(\u001b[0m\u001b[0;34mf\"tuple_1为: {tuple_1}\"\u001b[0m\u001b[0;34m)\u001b[0m\u001b[0;34m\u001b[0m\u001b[0;34m\u001b[0m\u001b[0m\n",
      "\u001b[0;31mTypeError\u001b[0m: 'tuple' object doesn't support item deletion"
     ]
    }
   ],
   "source": [
    "print(f\"dict_1为: {dict_1}\")\n",
    "print(f\"list_1为: {list_1}\")\n",
    "print(f\"tuple_1为: {tuple_1}\")\n",
    "\n",
    "del dict_1[\"Two\"]  # 删除dict_1键为\"Two\"的值与键\n",
    "print(f\"dict_1为: {dict_1}\")\n",
    "\n",
    "del list_1[-1]  # 删除list_1的最后一位\n",
    "print(f\"list_1为: {list_1}\")\n",
    "\n",
    "del tuple_1[-1]  # 会报错，因为tuple只增不减\n",
    "print(f\"tuple_1为: {tuple_1}\")"
   ]
  },
  {
   "cell_type": "markdown",
   "metadata": {},
   "source": [
    "`del` 是 `Python` 中的一个关键词，是删除的意思\n",
    "\n",
    "我们可以看到，`tuple` 类型的是只增不减的"
   ]
  },
  {
   "cell_type": "markdown",
   "metadata": {},
   "source": [
    "### 6. 字符串(str)与列表(list)的关系"
   ]
  },
  {
   "cell_type": "code",
   "execution_count": 73,
   "metadata": {},
   "outputs": [
    {
     "name": "stdout",
     "output_type": "stream",
     "text": [
      "list_2为: ['猫', '猫', '可', '不', '可', '爱', '？']\n"
     ]
    }
   ],
   "source": [
    "list_2 = list(str_1)  # 强转字符串为列表\n",
    "print(f\"list_2为: {list_2}\")  # 字符串是特殊的列表"
   ]
  },
  {
   "cell_type": "markdown",
   "metadata": {},
   "source": [
    "`list()` 方法把原本是 `str` 类型的 `str_1` 强转成了 `list` 类型，变成了一个 `list`\n",
    "\n",
    "在 `Python` 中，`str` 类型是通过 `list` 类型储存的，在后面的学习中将会极大地体现出了这样的好处！"
   ]
  }
 ],
 "metadata": {
  "interpreter": {
   "hash": "8bc581aef5dfbb9f8a5dfb13205b2935a1f3fdb7429d3114f00f65c6e0cdd799"
  },
  "kernelspec": {
   "display_name": "Python 3",
   "language": "python",
   "name": "python3"
  },
  "language_info": {
   "codemirror_mode": {
    "name": "ipython",
    "version": 3
   },
   "file_extension": ".py",
   "mimetype": "text/x-python",
   "name": "python",
   "nbconvert_exporter": "python",
   "pygments_lexer": "ipython3",
   "version": "3.8.5"
  }
 },
 "nbformat": 4,
 "nbformat_minor": 4
}
