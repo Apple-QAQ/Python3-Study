{
 "cells": [
  {
   "cell_type": "markdown",
   "metadata": {},
   "source": [
    "# 1.2  对于 Python3 的初步认识\n",
    "\n",
    "***本课作业: 完成一个字符串在控制台的输出***\n",
    "\n",
    "**注意:**\n",
    "- 例如 “ *loren*<sup>*</sup> ” (有上标的星号，loren 则为内容) 这些是拓展内容，以后会深入了解\n",
    "- “ [text]() ” 这一类有链接拓展，可以点击查看"
   ]
  },
  {
   "cell_type": "markdown",
   "metadata": {},
   "source": [
    "## 1. 简介\n",
    "\n",
    "python 是一个奇妙的语言，因为他的语句和代码格式与大多语言都不同，库的种类繁多，学起来略轻松，所以深受大众喜爱！"
   ]
  },
  {
   "cell_type": "markdown",
   "metadata": {},
   "source": [
    "## 2. 入门\n",
    "\n",
    "相信你或多或少见以下语句:"
   ]
  },
  {
   "cell_type": "code",
   "execution_count": 1,
   "metadata": {},
   "outputs": [
    {
     "name": "stdout",
     "output_type": "stream",
     "text": [
      "Hello World\n"
     ]
    }
   ],
   "source": [
    "print(\"Hello World\")"
   ]
  },
  {
   "cell_type": "markdown",
   "metadata": {},
   "source": [
    "那么他是什么意思捏？其实 `print` 是python内置的函数喵，他的作用是**将括号内的内容输出到控制台** ，括号内的内容我们一般称为**形参**。\n",
    "\n",
    "\n",
    "形参可以有很多种，`print` 语句中可以接受的行参有:\n",
    "\n",
    "```python\n",
    "print(\"Hello\", \"World\", sep=\"test1\", end=\"test2\", flush=\"test3\", file=\"test4\")  # 这是一个错误的代码，仅仅用 * 来表示该代替的地方\n",
    "```\n",
    "\n",
    "---\n",
    "\n",
    "那你就要问了(什么？你不想问？那你必须给我问！)，这个括号里为什么有些东西要用 `=` 连接起来而有些不用？ `,` 分隔开来？`=` 的左右两边分别代表什么呢？`#` 又是什么？\n",
    "\n",
    "`#` 在 python 中起到注释作用，python 的编译器在编译时不会看这些文字，在[PEP8代码规范](https://alvin.red/2017/10/07/python-pep-8/)中一般在一行代码结束后空两格输入井号，在井号后空一格然后进行注释(样例在上面)。\n",
    "\n",
    "\n",
    "\n",
    "<sup>*</sup> **啊咧咧？`def` 又是什么？** 那就让我来告诉你吧ww，请看以下代码:\n",
    "\n",
    "```python\n",
    "def print(*objects, sep=' ', end='\\n', file=sys.stdout, flush=False):\n",
    "    ...\n",
    "```\n",
    "\n",
    "`def` 是 define 的缩写，在 python 中用来创建函数，他是**函数开头的必要条件**。\n",
    "\n",
    "而后面的 `print` 是函数的名称，所以我们可以用 `print()` 来调用函数。\n",
    "\n",
    "而在这个 `print` 后面的括号则是要填的形参，*形参只在函数体内可以用* <sup>*</sup> ，等号后面的则是形参在没有被填时的默认值，而在上面 `print(\"Hello World\", sep=*, end=*, flush=*, file=*)` 中，我们逐一赋值了这些形参，等号左边是我们要赋值的形参，等号右边是这个形参的值。现在形参所被赋的值为:\n",
    "\n",
    "| 参数 | 值 |\n",
    "| - | - |\n",
    "| `\\*objects` | `[\"Hello\", \"World\"]` |\n",
    "| `sep` | `\"test1\"` |\n",
    "| `end` | `\"test2\"` |\n",
    "| `flush` | `\"test3\"` |\n",
    "| `file` | `\"test4\"` |\n",
    "\n",
    "<sup>*</sup> 那么填了这些形参能有什么用呢？\n",
    "\n",
    "- `objects` -- 复数，表示可以一次输出多个对象。输出多个对象时，需要用 “`,`” 分隔。"
   ]
  },
  {
   "cell_type": "code",
   "execution_count": 2,
   "metadata": {
    "scrolled": true
   },
   "outputs": [
    {
     "name": "stdout",
     "output_type": "stream",
     "text": [
      "Hello World\n"
     ]
    }
   ],
   "source": [
    "print(\"Hello\", \"World\")"
   ]
  },
  {
   "cell_type": "markdown",
   "metadata": {},
   "source": [
    "- `sep` -- 用来间隔多个对象(多个objects分割开来)，默认值是一个空格。"
   ]
  },
  {
   "cell_type": "code",
   "execution_count": 3,
   "metadata": {},
   "outputs": [
    {
     "name": "stdout",
     "output_type": "stream",
     "text": [
      "HelloanotherWorld\n"
     ]
    }
   ],
   "source": [
    "print(\"Hello\", \"World\", sep=\"another\")"
   ]
  },
  {
   "cell_type": "markdown",
   "metadata": {},
   "source": [
    "- `end` -- 用来设定以什么结尾。默认值是换行符 `\\n`，我们可以换成其他字符串。"
   ]
  },
  {
   "cell_type": "code",
   "execution_count": 4,
   "metadata": {
    "scrolled": true
   },
   "outputs": [
    {
     "name": "stdout",
     "output_type": "stream",
     "text": [
      "Hello Worldtext1"
     ]
    }
   ],
   "source": [
    "print(\"Hello\", \"World\", end=\"text1\")"
   ]
  },
  {
   "cell_type": "markdown",
   "metadata": {},
   "source": [
    "- `file`<sup>*</sup><sup>*</sup> -- 要写入的文件对象。\n",
    "\n",
    "- [`flush`](https://blog.csdn.net/Granthoo/article/details/82880562)<sup>*</sup><sup>*</sup> -- 输出是否被缓存通常决定于 file，但如果 flush 关键字参数为 True，流会被强制刷新。"
   ]
  }
 ],
 "metadata": {
  "kernelspec": {
   "display_name": "Python 3.8.5 ('base')",
   "language": "python",
   "name": "python3"
  },
  "language_info": {
   "codemirror_mode": {
    "name": "ipython",
    "version": 3
   },
   "file_extension": ".py",
   "mimetype": "text/x-python",
   "name": "python",
   "nbconvert_exporter": "python",
   "pygments_lexer": "ipython3",
   "version": "3.8.5"
  },
  "vscode": {
   "interpreter": {
    "hash": "8bc581aef5dfbb9f8a5dfb13205b2935a1f3fdb7429d3114f00f65c6e0cdd799"
   }
  }
 },
 "nbformat": 4,
 "nbformat_minor": 4
}
